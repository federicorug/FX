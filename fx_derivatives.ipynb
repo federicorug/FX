{
 "cells": [
  {
   "cell_type": "code",
   "execution_count": 1,
   "id": "8f7cd746",
   "metadata": {},
   "outputs": [],
   "source": [
    "from DataHandle import Fx_data as fd\n",
    "import QuantLib as ql"
   ]
  },
  {
   "cell_type": "code",
   "execution_count": 2,
   "id": "f491c6d1",
   "metadata": {},
   "outputs": [
    {
     "ename": "AttributeError",
     "evalue": "type object 'JointCalendar' has no attribute 'JoinHolidays'",
     "output_type": "error",
     "traceback": [
      "\u001b[1;31m---------------------------------------------------------------------------\u001b[0m",
      "\u001b[1;31mAttributeError\u001b[0m                            Traceback (most recent call last)",
      "Cell \u001b[1;32mIn[2], line 1\u001b[0m\n\u001b[1;32m----> 1\u001b[0m vol \u001b[38;5;241m=\u001b[39m \u001b[43mfd\u001b[49m\u001b[43m(\u001b[49m\u001b[43m)\u001b[49m\n\u001b[0;32m      2\u001b[0m vol_inter \u001b[38;5;241m=\u001b[39m vol\u001b[38;5;241m.\u001b[39mvol_interpolator()\n\u001b[0;32m      3\u001b[0m estr_inter \u001b[38;5;241m=\u001b[39m vol\u001b[38;5;241m.\u001b[39minterp_estr\n",
      "File \u001b[1;32mc:\\Users\\S542282\\Desktop\\code\\FX\\DataHandle.py:19\u001b[0m, in \u001b[0;36mFx_data.__init__\u001b[1;34m(self)\u001b[0m\n\u001b[0;32m     17\u001b[0m cal1 \u001b[38;5;241m=\u001b[39m TARGET()\n\u001b[0;32m     18\u001b[0m cal2 \u001b[38;5;241m=\u001b[39m UnitedStates(UnitedStates\u001b[38;5;241m.\u001b[39mNYSE)\n\u001b[1;32m---> 19\u001b[0m \u001b[38;5;28mself\u001b[39m\u001b[38;5;241m.\u001b[39mcalendar \u001b[38;5;241m=\u001b[39m  JointCalendar(cal1, cal2, \u001b[43mJointCalendar\u001b[49m\u001b[38;5;241;43m.\u001b[39;49m\u001b[43mJoinHolidays\u001b[49m)\n\u001b[0;32m     20\u001b[0m \u001b[38;5;28mself\u001b[39m\u001b[38;5;241m.\u001b[39mtoday \u001b[38;5;241m=\u001b[39m dt\u001b[38;5;241m.\u001b[39mdate\u001b[38;5;241m.\u001b[39mtoday()\n",
      "\u001b[1;31mAttributeError\u001b[0m: type object 'JointCalendar' has no attribute 'JoinHolidays'"
     ]
    }
   ],
   "source": [
    "vol = fd()\n",
    "vol_inter = vol.vol_interpolator()\n",
    "estr_inter = vol.interp_estr\n",
    "sofr_inter = vol.interp_sofr"
   ]
  },
  {
   "cell_type": "code",
   "execution_count": null,
   "id": "81adfe8b",
   "metadata": {},
   "outputs": [],
   "source": [
    "import math\n",
    "from scipy.stats import norm\n",
    "\n",
    "def garman_kohlhagen(S, K, T, r_d, r_f, sigma, option_type='call'):\n",
    "\n",
    "    d1 = (math.log(S / K) + (r_d - r_f + 0.5 * sigma ** 2) * T) / (sigma * math.sqrt(T))\n",
    "    d2 = d1 - sigma * math.sqrt(T)\n",
    "\n",
    "    if option_type == 'call':\n",
    "        price = S * math.exp(-r_f * T) * norm.cdf(d1) - K * math.exp(-r_d * T) * norm.cdf(d2)\n",
    "    elif option_type == 'put':\n",
    "        price = K * math.exp(-r_d * T) * norm.cdf(-d2) - S * math.exp(-r_f * T) * norm.cdf(-d1)\n",
    "\n",
    "    return price"
   ]
  },
  {
   "cell_type": "code",
   "execution_count": null,
   "id": "9e7d8f61",
   "metadata": {},
   "outputs": [
    {
     "data": {
      "text/plain": [
       "1.15225"
      ]
     },
     "execution_count": 3,
     "metadata": {},
     "output_type": "execute_result"
    }
   ],
   "source": [
    "vol.spot"
   ]
  },
  {
   "cell_type": "code",
   "execution_count": null,
   "id": "0bfc0128",
   "metadata": {},
   "outputs": [],
   "source": [
    "spot = vol.spot               \n",
    "strike = 1.17\n",
    "            \n",
    "expiry = 2\n",
    "sigma = vol_inter((expiry,strike))\n",
    "rd = sofr_inter(expiry)/100                  \n",
    "rf = estr_inter(expiry)/100    \n",
    "\n",
    "N = 100000"
   ]
  },
  {
   "cell_type": "code",
   "execution_count": null,
   "id": "d80769c6",
   "metadata": {},
   "outputs": [
    {
     "name": "stdout",
     "output_type": "stream",
     "text": [
      "Garman-Kohlhagen Call Price: 0.0615\n"
     ]
    }
   ],
   "source": [
    "call_fx = garman_kohlhagen(spot, strike, expiry, rd,rf,  sigma, option_type='call')\n",
    "\n",
    "\n",
    "print(f\"Garman-Kohlhagen Call Price: {call_fx:.4f}\")\n"
   ]
  },
  {
   "cell_type": "markdown",
   "id": "0121b0b3",
   "metadata": {},
   "source": [
    "usd per eur"
   ]
  },
  {
   "cell_type": "code",
   "execution_count": null,
   "id": "d78cbcb2",
   "metadata": {},
   "outputs": [],
   "source": [
    "usdxeur = call_fx"
   ]
  },
  {
   "cell_type": "markdown",
   "id": "d8c6712e",
   "metadata": {},
   "source": [
    "eur%"
   ]
  },
  {
   "cell_type": "code",
   "execution_count": null,
   "id": "3193e3d8",
   "metadata": {},
   "outputs": [],
   "source": [
    "eurptg = usdxeur/strike"
   ]
  },
  {
   "cell_type": "markdown",
   "id": "519fe3d3",
   "metadata": {},
   "source": [
    "eur premium"
   ]
  },
  {
   "cell_type": "code",
   "execution_count": null,
   "id": "74f29cab",
   "metadata": {},
   "outputs": [
    {
     "data": {
      "text/plain": [
       "np.float64(4563.627840043807)"
      ]
     },
     "execution_count": 25,
     "metadata": {},
     "output_type": "execute_result"
    }
   ],
   "source": [
    "eurptg * N /spot"
   ]
  }
 ],
 "metadata": {
  "kernelspec": {
   "display_name": "Python 3",
   "language": "python",
   "name": "python3"
  },
  "language_info": {
   "codemirror_mode": {
    "name": "ipython",
    "version": 3
   },
   "file_extension": ".py",
   "mimetype": "text/x-python",
   "name": "python",
   "nbconvert_exporter": "python",
   "pygments_lexer": "ipython3",
   "version": "3.12.7"
  }
 },
 "nbformat": 4,
 "nbformat_minor": 5
}
