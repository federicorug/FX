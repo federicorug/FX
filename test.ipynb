{
 "cells": [
  {
   "cell_type": "code",
   "execution_count": 26,
   "metadata": {},
   "outputs": [],
   "source": [
    "from abc import ABC, abstractmethod\n",
    "from DataHandle import Fx_data as fd\n",
    "from QuantLib import *\n",
    "import math\n",
    "from scipy.stats import norm\n",
    "from FxDerivative import VanillaOption\n",
    "import datetime as dt"
   ]
  },
  {
   "cell_type": "code",
   "execution_count": 28,
   "metadata": {},
   "outputs": [],
   "source": [
    "strike = 1.16\n",
    "date = dt.date(2026, 1, 1)\n",
    "option_type = 'call'\n",
    "N = 100000"
   ]
  },
  {
   "cell_type": "code",
   "execution_count": 27,
   "metadata": {},
   "outputs": [
    {
     "name": "stderr",
     "output_type": "stream",
     "text": [
      "c:\\Users\\S542282\\Desktop\\fede_env\\Lib\\site-packages\\scipy\\optimize\\_slsqp_py.py:435: RuntimeWarning: Values in x were outside bounds during a minimize step, clipping to bounds\n",
      "  fx = wrapped_fun(x)\n",
      "c:\\Users\\S542282\\Desktop\\fede_env\\Lib\\site-packages\\scipy\\optimize\\_slsqp_py.py:435: RuntimeWarning: Values in x were outside bounds during a minimize step, clipping to bounds\n",
      "  fx = wrapped_fun(x)\n",
      "c:\\Users\\S542282\\Desktop\\fede_env\\Lib\\site-packages\\scipy\\optimize\\_slsqp_py.py:435: RuntimeWarning: Values in x were outside bounds during a minimize step, clipping to bounds\n",
      "  fx = wrapped_fun(x)\n",
      "c:\\Users\\S542282\\Desktop\\fede_env\\Lib\\site-packages\\scipy\\optimize\\_slsqp_py.py:435: RuntimeWarning: Values in x were outside bounds during a minimize step, clipping to bounds\n",
      "  fx = wrapped_fun(x)\n",
      "c:\\Users\\S542282\\Desktop\\fede_env\\Lib\\site-packages\\scipy\\optimize\\_slsqp_py.py:435: RuntimeWarning: Values in x were outside bounds during a minimize step, clipping to bounds\n",
      "  fx = wrapped_fun(x)\n",
      "c:\\Users\\S542282\\Desktop\\fede_env\\Lib\\site-packages\\scipy\\optimize\\_slsqp_py.py:435: RuntimeWarning: Values in x were outside bounds during a minimize step, clipping to bounds\n",
      "  fx = wrapped_fun(x)\n",
      "c:\\Users\\S542282\\Desktop\\fede_env\\Lib\\site-packages\\scipy\\optimize\\_slsqp_py.py:435: RuntimeWarning: Values in x were outside bounds during a minimize step, clipping to bounds\n",
      "  fx = wrapped_fun(x)\n"
     ]
    }
   ],
   "source": [
    "option = VanillaOption()"
   ]
  },
  {
   "cell_type": "code",
   "execution_count": 29,
   "metadata": {},
   "outputs": [],
   "source": [
    "option.contract(option_type, strike, date, N)"
   ]
  },
  {
   "cell_type": "code",
   "execution_count": 35,
   "metadata": {},
   "outputs": [
    {
     "name": "stdout",
     "output_type": "stream",
     "text": [
      "Ref: 1.15135 option price: 2237.57 EUR\n"
     ]
    }
   ],
   "source": [
    "print('Ref:', option.ref, 'option price:', round(option.Premium_EUR(),2), 'EUR')"
   ]
  }
 ],
 "metadata": {
  "kernelspec": {
   "display_name": "Python 3",
   "language": "python",
   "name": "python3"
  },
  "language_info": {
   "codemirror_mode": {
    "name": "ipython",
    "version": 3
   },
   "file_extension": ".py",
   "mimetype": "text/x-python",
   "name": "python",
   "nbconvert_exporter": "python",
   "pygments_lexer": "ipython3",
   "version": "3.12.7"
  }
 },
 "nbformat": 4,
 "nbformat_minor": 2
}
