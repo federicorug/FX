{
 "cells": [
  {
   "cell_type": "code",
   "execution_count": 1,
   "metadata": {},
   "outputs": [],
   "source": [
    "from FxDerivative import Vanilla\n",
    "import datetime as dt\n",
    "from RateHandle import rate "
   ]
  },
  {
   "cell_type": "code",
   "execution_count": 26,
   "metadata": {},
   "outputs": [
    {
     "name": "stderr",
     "output_type": "stream",
     "text": [
      "c:\\Users\\S542282\\Desktop\\fede_env\\Lib\\site-packages\\scipy\\optimize\\_slsqp_py.py:435: RuntimeWarning: Values in x were outside bounds during a minimize step, clipping to bounds\n",
      "  fx = wrapped_fun(x)\n",
      "c:\\Users\\S542282\\Desktop\\fede_env\\Lib\\site-packages\\scipy\\optimize\\_slsqp_py.py:435: RuntimeWarning: Values in x were outside bounds during a minimize step, clipping to bounds\n",
      "  fx = wrapped_fun(x)\n",
      "c:\\Users\\S542282\\Desktop\\fede_env\\Lib\\site-packages\\scipy\\optimize\\_slsqp_py.py:435: RuntimeWarning: Values in x were outside bounds during a minimize step, clipping to bounds\n",
      "  fx = wrapped_fun(x)\n",
      "c:\\Users\\S542282\\Desktop\\fede_env\\Lib\\site-packages\\scipy\\optimize\\_slsqp_py.py:435: RuntimeWarning: Values in x were outside bounds during a minimize step, clipping to bounds\n",
      "  fx = wrapped_fun(x)\n",
      "c:\\Users\\S542282\\Desktop\\fede_env\\Lib\\site-packages\\scipy\\optimize\\_slsqp_py.py:435: RuntimeWarning: Values in x were outside bounds during a minimize step, clipping to bounds\n",
      "  fx = wrapped_fun(x)\n"
     ]
    }
   ],
   "source": [
    "strike = 1.18\n",
    "date = dt.date(2026, 5, 5)\n",
    "option_type = 'call'\n",
    "N = 100000\n",
    "\n",
    "option = Vanilla()"
   ]
  },
  {
   "cell_type": "code",
   "execution_count": 27,
   "metadata": {},
   "outputs": [
    {
     "name": "stdout",
     "output_type": "stream",
     "text": [
      "Ref: 1.15065 option price: 2326.96 EUR\n"
     ]
    }
   ],
   "source": [
    "option.contract(option_type, strike, date, N)\n",
    "\n",
    "print('Ref:', option.ref, 'option price:', round(option.Premium_EUR(),2), 'EUR')"
   ]
  },
  {
   "cell_type": "code",
   "execution_count": 8,
   "metadata": {},
   "outputs": [],
   "source": [
    "target_date = ql.Date(18, 6, 2027)"
   ]
  },
  {
   "cell_type": "code",
   "execution_count": 14,
   "metadata": {},
   "outputs": [
    {
     "data": {
      "text/plain": [
       "0.037834027777777786"
      ]
     },
     "execution_count": 14,
     "metadata": {},
     "output_type": "execute_result"
    }
   ],
   "source": [
    "option.mkt.sofr.rate_curve.zeroRate(target_date, ql.Actual365Fixed(), ql.Continuous, ql.Annual).rate()"
   ]
  },
  {
   "cell_type": "code",
   "execution_count": 19,
   "metadata": {},
   "outputs": [],
   "source": [
    "import QuantLib as ql\n",
    "\n",
    "# ---------- 1. Set evaluation context ----------\n",
    "today = ql.Date(18, 6, 2025)          # or whatever your \"as-of\" date is\n",
    "ql.Settings.instance().evaluationDate = today\n",
    "calendar = ql.TARGET()                # EUR calendar; use UnitedStates() if you prefer\n",
    "\n",
    "# ---------- 2. Raw market data ----------\n",
    "# >>> Replace these with *your* actual dates & forward quotes <<<\n",
    "expiry_dates = [\n",
    "    ql.Date(18, 7, 2025),             # 1-month\n",
    "    ql.Date(18, 9, 2025),             # 3-month\n",
    "    ql.Date(18,12, 2025),             # 6-month\n",
    "    ql.Date(18, 6, 2026),             # 1-year\n",
    "    ql.Date(18, 6, 2027)              # 2-year\n",
    "]\n",
    "forward_quotes = [1.0720, 1.0745, 1.0790, 1.0905, 1.1150]\n",
    "\n",
    "# ---------- 3. Choose day-count & interpolation ----------\n",
    "day_counter   = ql.Actual365Fixed()   # most common for FX forwards\n",
    "interpolator  = ql.Linear()           # piece-wise linear in time on the *rates*\n",
    "# For log-linear (smooth on ln(rate)) use ql.LogLinear()\n",
    "\n",
    "# ---------- 4. Build the forward term structure ----------\n",
    "fx_fwd_curve = ql.ForwardCurve(\n",
    "    expiry_dates,\n",
    "    forward_quotes,\n",
    "    day_counter,\n",
    "    calendar,          # optional in recent QuantLib builds; safe to include\n",
    "\n",
    ")\n",
    "\n"
   ]
  },
  {
   "cell_type": "code",
   "execution_count": 24,
   "metadata": {},
   "outputs": [
    {
     "data": {
      "text/plain": [
       "1.0744999999999993"
      ]
     },
     "execution_count": 24,
     "metadata": {},
     "output_type": "execute_result"
    }
   ],
   "source": [
    "fx_fwd_curve.zeroRate(ql.Date(18, 8, 2025), day_counter, ql.Continuous, ql.Annual).rate()"
   ]
  },
  {
   "cell_type": "code",
   "execution_count": 6,
   "metadata": {},
   "outputs": [],
   "source": [
    "from RateHandle import rate \n",
    "import QuantLib as ql"
   ]
  },
  {
   "cell_type": "code",
   "execution_count": 3,
   "metadata": {},
   "outputs": [],
   "source": [
    "a = rate()"
   ]
  },
  {
   "cell_type": "code",
   "execution_count": 4,
   "metadata": {},
   "outputs": [],
   "source": [
    "a.data_take('USD')"
   ]
  },
  {
   "cell_type": "code",
   "execution_count": 14,
   "metadata": {},
   "outputs": [
    {
     "ename": "RuntimeError",
     "evalue": "negative time (-0.0277778) given",
     "output_type": "error",
     "traceback": [
      "\u001b[1;31m---------------------------------------------------------------------------\u001b[0m",
      "\u001b[1;31mRuntimeError\u001b[0m                              Traceback (most recent call last)",
      "\u001b[1;32m~\\AppData\\Local\\Temp\\ipykernel_20692\\1054645523.py\u001b[0m in \u001b[0;36m?\u001b[1;34m()\u001b[0m\n\u001b[1;32m----> 1\u001b[1;33m \u001b[0ma\u001b[0m\u001b[1;33m.\u001b[0m\u001b[0mrate_interpolator\u001b[0m\u001b[1;33m(\u001b[0m\u001b[0mql\u001b[0m\u001b[1;33m.\u001b[0m\u001b[0mDate\u001b[0m\u001b[1;33m(\u001b[0m\u001b[1;36m20\u001b[0m\u001b[1;33m,\u001b[0m \u001b[1;36m6\u001b[0m\u001b[1;33m,\u001b[0m \u001b[1;36m2025\u001b[0m\u001b[1;33m)\u001b[0m\u001b[1;33m)\u001b[0m\u001b[1;33m\u001b[0m\u001b[1;33m\u001b[0m\u001b[0m\n\u001b[0m",
      "\u001b[1;32mc:\\Users\\S542282\\Documents\\GitHub\\Fx\\RateHandle.py\u001b[0m in \u001b[0;36m?\u001b[1;34m(self, target_date)\u001b[0m\n\u001b[0;32m     83\u001b[0m     \u001b[1;32mdef\u001b[0m \u001b[0mdata_take\u001b[0m\u001b[1;33m(\u001b[0m\u001b[0mself\u001b[0m\u001b[1;33m,\u001b[0m \u001b[0mcoin\u001b[0m\u001b[1;33m)\u001b[0m\u001b[1;33m:\u001b[0m\u001b[1;33m\u001b[0m\u001b[1;33m\u001b[0m\u001b[0m\n\u001b[0;32m     84\u001b[0m \u001b[1;33m\u001b[0m\u001b[0m\n\u001b[0;32m     85\u001b[0m         \u001b[1;32mif\u001b[0m \u001b[0mcoin\u001b[0m \u001b[1;33m==\u001b[0m \u001b[1;34m'EUR'\u001b[0m\u001b[1;33m:\u001b[0m\u001b[1;33m\u001b[0m\u001b[1;33m\u001b[0m\u001b[0m\n\u001b[1;32m---> 86\u001b[1;33m             \u001b[0mticker\u001b[0m \u001b[1;33m=\u001b[0m \u001b[1;34m'EESWE'\u001b[0m\u001b[1;33m\u001b[0m\u001b[1;33m\u001b[0m\u001b[0m\n\u001b[0m\u001b[0;32m     87\u001b[0m             \u001b[0mself\u001b[0m\u001b[1;33m.\u001b[0m\u001b[0mcalendar\u001b[0m \u001b[1;33m=\u001b[0m \u001b[0mTARGET\u001b[0m\u001b[1;33m(\u001b[0m\u001b[1;33m)\u001b[0m\u001b[1;33m\u001b[0m\u001b[1;33m\u001b[0m\u001b[0m\n\u001b[0;32m     88\u001b[0m         \u001b[1;32melif\u001b[0m \u001b[0mcoin\u001b[0m \u001b[1;33m==\u001b[0m \u001b[1;34m'USD'\u001b[0m\u001b[1;33m:\u001b[0m\u001b[1;33m\u001b[0m\u001b[1;33m\u001b[0m\u001b[0m\n\u001b[0;32m     89\u001b[0m             \u001b[0mticker\u001b[0m \u001b[1;33m=\u001b[0m \u001b[1;34m'USOSFR'\u001b[0m\u001b[1;33m\u001b[0m\u001b[1;33m\u001b[0m\u001b[0m\n",
      "\u001b[1;32mc:\\Users\\S542282\\Desktop\\fede_env\\Lib\\site-packages\\QuantLib\\QuantLib.py\u001b[0m in \u001b[0;36m?\u001b[1;34m(self, *args)\u001b[0m\n\u001b[0;32m   8777\u001b[0m         r\"\"\"\n\u001b[0;32m   8778\u001b[0m         \u001b[0mzeroRate\u001b[0m\u001b[1;33m(\u001b[0m\u001b[0mYieldTermStructureHandle\u001b[0m \u001b[0mself\u001b[0m\u001b[1;33m,\u001b[0m \u001b[0mDate\u001b[0m \u001b[0md\u001b[0m\u001b[1;33m,\u001b[0m \u001b[0mDayCounter\u001b[0m \u001b[0marg3\u001b[0m\u001b[1;33m,\u001b[0m \u001b[0mCompounding\u001b[0m \u001b[0marg4\u001b[0m\u001b[1;33m,\u001b[0m \u001b[0mFrequency\u001b[0m \u001b[0mf\u001b[0m\u001b[1;33m=\u001b[0m\u001b[0mAnnual\u001b[0m\u001b[1;33m,\u001b[0m \u001b[0mbool\u001b[0m \u001b[0mextrapolate\u001b[0m\u001b[1;33m=\u001b[0m\u001b[1;32mFalse\u001b[0m\u001b[1;33m)\u001b[0m \u001b[1;33m->\u001b[0m \u001b[0mInterestRate\u001b[0m\u001b[1;33m\u001b[0m\u001b[1;33m\u001b[0m\u001b[0m\n\u001b[0;32m   8779\u001b[0m         \u001b[0mzeroRate\u001b[0m\u001b[1;33m(\u001b[0m\u001b[0mYieldTermStructureHandle\u001b[0m \u001b[0mself\u001b[0m\u001b[1;33m,\u001b[0m \u001b[0mTime\u001b[0m \u001b[0mt\u001b[0m\u001b[1;33m,\u001b[0m \u001b[0mCompounding\u001b[0m \u001b[0marg3\u001b[0m\u001b[1;33m,\u001b[0m \u001b[0mFrequency\u001b[0m \u001b[0mf\u001b[0m\u001b[1;33m=\u001b[0m\u001b[0mAnnual\u001b[0m\u001b[1;33m,\u001b[0m \u001b[0mbool\u001b[0m \u001b[0mextrapolate\u001b[0m\u001b[1;33m=\u001b[0m\u001b[1;32mFalse\u001b[0m\u001b[1;33m)\u001b[0m \u001b[1;33m->\u001b[0m \u001b[0mInterestRate\u001b[0m\u001b[1;33m\u001b[0m\u001b[1;33m\u001b[0m\u001b[0m\n\u001b[0;32m   8780\u001b[0m         \"\"\"\n\u001b[1;32m-> 8781\u001b[1;33m         \u001b[1;32mreturn\u001b[0m \u001b[0m_QuantLib\u001b[0m\u001b[1;33m.\u001b[0m\u001b[0mYieldTermStructureHandle_zeroRate\u001b[0m\u001b[1;33m(\u001b[0m\u001b[0mself\u001b[0m\u001b[1;33m,\u001b[0m \u001b[1;33m*\u001b[0m\u001b[0margs\u001b[0m\u001b[1;33m)\u001b[0m\u001b[1;33m\u001b[0m\u001b[1;33m\u001b[0m\u001b[0m\n\u001b[0m",
      "\u001b[1;31mRuntimeError\u001b[0m: negative time (-0.0277778) given"
     ]
    }
   ],
   "source": [
    "a.rate_interpolator(ql.Date(20, 6, 2025))"
   ]
  }
 ],
 "metadata": {
  "kernelspec": {
   "display_name": "Python 3",
   "language": "python",
   "name": "python3"
  },
  "language_info": {
   "codemirror_mode": {
    "name": "ipython",
    "version": 3
   },
   "file_extension": ".py",
   "mimetype": "text/x-python",
   "name": "python",
   "nbconvert_exporter": "python",
   "pygments_lexer": "ipython3",
   "version": "3.12.7"
  }
 },
 "nbformat": 4,
 "nbformat_minor": 2
}
