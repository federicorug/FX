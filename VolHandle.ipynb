{
 "cells": [
  {
   "cell_type": "code",
   "execution_count": 1,
   "metadata": {},
   "outputs": [
    {
     "name": "stdout",
     "output_type": "stream",
     "text": [
      "Rebuilding cache of generated files for COM support...\n",
      "Checking 00020813-0000-0000-C000-000000000046x0x1x9\n",
      "Could not add module (IID('{00020813-0000-0000-C000-000000000046}'), 0, 1, 9) - <class 'ImportError'>: cannot import name 'Dispatch' from partially initialized module 'win32com.client' (most likely due to a circular import) (c:\\Users\\S542282\\Desktop\\fede_env\\Lib\\site-packages\\win32com\\client\\__init__.py)\n",
      "Done.\n"
     ]
    }
   ],
   "source": [
    "import pandas as pd\n",
    "import numpy as np\n",
    "from xbbg import blp, pipeline\n",
    "import datetime as dt\n",
    "import scipy.interpolate as interpolate\n",
    "import matplotlib.pyplot as plt\n",
    "import xlwings as xw\n",
    "import scipy.optimize as opt\n",
    "from QuantLib import *\n",
    "from scipy.optimize import minimize"
   ]
  },
  {
   "cell_type": "code",
   "execution_count": 2,
   "metadata": {},
   "outputs": [],
   "source": [
    "from scipy.stats import norm"
   ]
  },
  {
   "cell_type": "code",
   "execution_count": 3,
   "metadata": {},
   "outputs": [],
   "source": [
    "today = dt.date.today()\n",
    "maturity = ['1W', '2W', '3W','1M', '2M', '3M', '6M', '9M', '12M', '2Y', '3Y', '4Y', '5Y', '7Y', '10Y']\n",
    "calendar = UnitedStates(UnitedStates.NYSE)"
   ]
  },
  {
   "cell_type": "code",
   "execution_count": 4,
   "metadata": {},
   "outputs": [],
   "source": [
    "side = 'sell'"
   ]
  },
  {
   "cell_type": "code",
   "execution_count": 5,
   "metadata": {},
   "outputs": [],
   "source": [
    "spot = blp.bdp('EURUSD BGN Curncy', flds=['Security_Name','mid'])['mid'].values[0]"
   ]
  },
  {
   "cell_type": "code",
   "execution_count": 6,
   "metadata": {},
   "outputs": [],
   "source": [
    "ticker = ['EUR{} Curncy'.format(i) for i in maturity]\n",
    "pts = blp.bdp(ticker, flds=['Security_Name','mid', 'maturity'])\n",
    "pts = pts.sort_values(by='mid')\n",
    "pts['mid'] = spot + pts['mid'].values/10000 \n",
    "\n",
    "h = [ (i - today).days for i in pts['maturity'].values]\n",
    "\n",
    "fwd_fx_mid = interpolate.CubicSpline(h, pts['mid'])\n",
    "\n",
    "maturity[8] = '1Y'"
   ]
  },
  {
   "cell_type": "markdown",
   "metadata": {},
   "source": [
    "atm\n"
   ]
  },
  {
   "cell_type": "code",
   "execution_count": 7,
   "metadata": {},
   "outputs": [],
   "source": [
    "ticker_atmvol =['EURUSDVON Curncy'] + ['EURUSDV{} Curncy'.format(i) for i in maturity]\n",
    "atmvol = [blp.bdp(i, flds=['Security_Name', 'mid','maturity']) for i in ticker_atmvol]\n",
    "atmvol = pd.concat(atmvol, axis=0)"
   ]
  },
  {
   "cell_type": "markdown",
   "metadata": {},
   "source": [
    "risk rev"
   ]
  },
  {
   "cell_type": "code",
   "execution_count": 8,
   "metadata": {},
   "outputs": [],
   "source": [
    "ticker_rrvol25 =['EURUSD25RON Curncy'] + ['EURUSD25R{} Curncy'.format(i) for i in maturity]\n",
    "rrvol25 = [blp.bdp(i, flds=['Security_Name', 'mid','maturity']) for i in ticker_rrvol25]\n",
    "rrvol25 = pd.concat(rrvol25, axis=0)\n",
    "ticker_rrvol10 =['EURUSD10RON Curncy'] + ['EURUSD10R{} Curncy'.format(i) for i in maturity]\n",
    "rrvol10 = [blp.bdp(i, flds=['Security_Name', 'mid','maturity']) for i in ticker_rrvol10]\n",
    "rrvol10 = pd.concat(rrvol10, axis=0)"
   ]
  },
  {
   "cell_type": "markdown",
   "metadata": {},
   "source": [
    "fly"
   ]
  },
  {
   "cell_type": "code",
   "execution_count": 9,
   "metadata": {},
   "outputs": [],
   "source": [
    "ticker_bfvol25 =['EURUSD25BON Curncy'] + ['EURUSD25B{} Curncy'.format(i) for i in maturity]\n",
    "bfvol25 = [blp.bdp(i, flds=['Security_Name', 'mid','maturity']) for i in ticker_bfvol25]\n",
    "bfvol25 = pd.concat(bfvol25, axis=0)\n",
    "ticker_bfvol10 =['EURUSD10BON Curncy'] + ['EURUSD10B{} Curncy'.format(i) for i in maturity]\n",
    "bfvol10 = [blp.bdp(i, flds=['Security_Name', 'mid','maturity']) for i in ticker_bfvol10]\n",
    "bfvol10 = pd.concat(bfvol10, axis=0)"
   ]
  },
  {
   "cell_type": "markdown",
   "metadata": {},
   "source": [
    "\n",
    "surface"
   ]
  },
  {
   "cell_type": "code",
   "execution_count": 10,
   "metadata": {},
   "outputs": [],
   "source": [
    "surf = pd.DataFrame(np.array([atmvol['mid'].values,\n",
    "                     rrvol10['mid'].values,\n",
    "                     rrvol25['mid'].values,\n",
    "                     bfvol10['mid'].values,\n",
    "                     bfvol25['mid'].values,\n",
    "                     ]).T, index=['on']+ maturity, columns=['ATM','RR10','RR25','BF10','BF25'])\n"
   ]
  },
  {
   "cell_type": "markdown",
   "metadata": {},
   "source": [
    "to call put "
   ]
  },
  {
   "cell_type": "code",
   "execution_count": 11,
   "metadata": {},
   "outputs": [],
   "source": [
    "surf['Call25'] = surf['ATM'] + surf['BF25'] + .5 * surf['RR25']\n",
    "surf['Call10'] = surf['ATM'] + surf['BF10'] + .5 * surf['RR10']\n",
    "surf['Put25'] = surf['ATM'] + surf['BF25'] - .5 * surf['RR25']\n",
    "surf['Put10'] = surf['ATM'] + surf['BF10'] - .5 * surf['RR10']\n",
    "surf['fwd'] = [spot] + list(pts['mid'].values)"
   ]
  },
  {
   "cell_type": "markdown",
   "metadata": {},
   "source": [
    "from delta to strike "
   ]
  },
  {
   "cell_type": "code",
   "execution_count": 12,
   "metadata": {},
   "outputs": [],
   "source": [
    "def strike_from_delta_forward(F, T, sigma , delta, sofr, option_type='call'):\n",
    "\n",
    "    sigma = sigma * 0.01   \n",
    "\n",
    "    if option_type == 'call':\n",
    "        d1 = np.array([norm.ppf(delta * np.exp(sofr(i)/100 * i)) if i < 1 else norm.ppf(delta) for i in T])\n",
    "\n",
    "    else:\n",
    "        delta = delta + 1\n",
    "        d1 = np.array([norm.ppf(delta * np.exp(sofr(i)/100 * i)) if i < 1 else norm.ppf(delta) for i in T])\n",
    "    \n",
    "    K = F * np.exp(-d1 * sigma * np.sqrt(T) + 0.5 * sigma**2 * T)\n",
    "    return K"
   ]
  },
  {
   "cell_type": "code",
   "execution_count": null,
   "metadata": {},
   "outputs": [],
   "source": [
    "F = surf['fwd'].values  \n",
    "[ (i - today).days for i in pts['maturity'].values]     \n",
    "T = np.array([1] + h)/360     "
   ]
  },
  {
   "cell_type": "code",
   "execution_count": 14,
   "metadata": {},
   "outputs": [],
   "source": [
    "sofr_date = ['TSFR{} Index'.format(i) for i in ['1M', '3M', '6M', '9M', '12M']]\n",
    "sofr = [blp.bdp(i, flds=['Security_Name', 'PX_LAST']) for i in sofr_date]\n",
    "sofr = pd.concat(sofr, axis=0)\n",
    "sofr['mat'] = [T[4],T[6],T[7],T[9]]\n",
    "sofr = interpolate.interp1d(sofr['mat'].values, sofr['px_last'].values, kind='linear', fill_value='extrapolate')"
   ]
  },
  {
   "cell_type": "code",
   "execution_count": 15,
   "metadata": {},
   "outputs": [],
   "source": [
    "sigmac25 = surf['Call25'].values       \n",
    "sigmac10 = surf['Call10'].values\n",
    "sigmap25 = surf['Put25'].values\n",
    "sigmap10 = surf['Put10'].values\n",
    "\n",
    "K_call25 = strike_from_delta_forward(F, T, sigmac25, 0.25, sofr, option_type='call')\n",
    "K_call10 = strike_from_delta_forward(F, T, sigmac10, 0.10, sofr, option_type='call')\n",
    "K_Put25 = strike_from_delta_forward(F, T, sigmap25,-0.25, sofr, option_type='put')\n",
    "K_Put10 = strike_from_delta_forward(F, T, sigmap10, -0.10, sofr, option_type='put')"
   ]
  },
  {
   "cell_type": "code",
   "execution_count": 16,
   "metadata": {},
   "outputs": [
    {
     "data": {
      "application/vnd.microsoft.datawrangler.viewer.v0+json": {
       "columns": [
        {
         "name": "index",
         "rawType": "object",
         "type": "string"
        },
        {
         "name": "mat",
         "rawType": "float64",
         "type": "float"
        },
        {
         "name": "put10",
         "rawType": "float64",
         "type": "float"
        },
        {
         "name": "put25",
         "rawType": "float64",
         "type": "float"
        },
        {
         "name": "atm",
         "rawType": "float64",
         "type": "float"
        },
        {
         "name": "call25",
         "rawType": "float64",
         "type": "float"
        },
        {
         "name": "call10",
         "rawType": "float64",
         "type": "float"
        }
       ],
       "ref": "b1b3349a-ee67-4df4-a25c-28bc1f2ba0e2",
       "rows": [
        [
         "on",
         "0.002777777777777778",
         "1.1342397055165123",
         "1.1380240229686938",
         "1.14205",
         "1.1461657762520845",
         "1.1501086946422716"
        ],
        [
         "1W",
         "0.025",
         "1.1244861171723801",
         "1.1332727481199798",
         "1.1425785",
         "1.1525060018112976",
         "1.1625088332615798"
        ],
        [
         "2W",
         "0.044444444444444446",
         "1.1190159186058408",
         "1.1307340093146145",
         "1.143106",
         "1.1565648051261994",
         "1.1703584649338115"
        ],
        [
         "3W",
         "0.06388888888888888",
         "1.1149690930261995",
         "1.1289090148258543",
         "1.143645",
         "1.159937154552348",
         "1.1768967020136307"
        ],
        [
         "1M",
         "0.08888888888888889",
         "1.1100532854570857",
         "1.1267194384578936",
         "1.144329",
         "1.163967189816864",
         "1.1845885442297697"
        ],
        [
         "2M",
         "0.175",
         "1.0983603619570022",
         "1.122002193367048",
         "1.146707",
         "1.1746294934487544",
         "1.2048372686124127"
        ],
        [
         "3M",
         "0.2611111111111111",
         "1.090195779831291",
         "1.1191781930612925",
         "1.14911",
         "1.1830006455118909",
         "1.2205318710313262"
        ],
        [
         "6M",
         "0.5138888888888888",
         "1.0704249731688955",
         "1.113370014274103",
         "1.156079",
         "1.2040819556582076",
         "1.2595224125861282"
        ],
        [
         "9M",
         "0.7638888888888888",
         "1.054119133445809",
         "1.1093970676090295",
         "1.16271",
         "1.2218066699256884",
         "1.2928771242713817"
        ],
        [
         "1Y",
         "1.0194444444444444",
         "1.058126974113053",
         "1.113794111973987",
         "1.168875",
         "1.24153133045791",
         "1.3269123420688236"
        ],
        [
         "2Y",
         "2.033333333333333",
         "1.0306267732390046",
         "1.1111242273429964",
         "1.1895",
         "1.2986339158062983",
         "1.4280200585315137"
        ],
        [
         "3Y",
         "3.0527777777777776",
         "1.0085991280205422",
         "1.1101423399786758",
         "1.20825",
         "1.3510656138878065",
         "1.5176371143824665"
        ],
        [
         "4Y",
         "4.063888888888889",
         "0.9884838336718046",
         "1.11048184163154",
         "1.2262315",
         "1.4001989759313647",
         "1.6003206999375437"
        ],
        [
         "5Y",
         "5.0777777777777775",
         "0.9723560487534583",
         "1.112904778274592",
         "1.244192",
         "1.4497363595044888",
         "1.6861584373252003"
        ],
        [
         "7Y",
         "7.108333333333333",
         "0.9633489073522792",
         "1.1269260102522427",
         "1.28185",
         "1.5545673002610332",
         "1.873479915851565"
        ],
        [
         "10Y",
         "10.15",
         "0.9586765377957565",
         "1.1536391668931116",
         "1.339162",
         "1.7182845396880921",
         "2.1793326383291136"
        ]
       ],
       "shape": {
        "columns": 6,
        "rows": 16
       }
      },
      "text/html": [
       "<div>\n",
       "<style scoped>\n",
       "    .dataframe tbody tr th:only-of-type {\n",
       "        vertical-align: middle;\n",
       "    }\n",
       "\n",
       "    .dataframe tbody tr th {\n",
       "        vertical-align: top;\n",
       "    }\n",
       "\n",
       "    .dataframe thead th {\n",
       "        text-align: right;\n",
       "    }\n",
       "</style>\n",
       "<table border=\"1\" class=\"dataframe\">\n",
       "  <thead>\n",
       "    <tr style=\"text-align: right;\">\n",
       "      <th></th>\n",
       "      <th>mat</th>\n",
       "      <th>put10</th>\n",
       "      <th>put25</th>\n",
       "      <th>atm</th>\n",
       "      <th>call25</th>\n",
       "      <th>call10</th>\n",
       "    </tr>\n",
       "  </thead>\n",
       "  <tbody>\n",
       "    <tr>\n",
       "      <th>on</th>\n",
       "      <td>0.002778</td>\n",
       "      <td>1.134240</td>\n",
       "      <td>1.138024</td>\n",
       "      <td>1.142050</td>\n",
       "      <td>1.146166</td>\n",
       "      <td>1.150109</td>\n",
       "    </tr>\n",
       "    <tr>\n",
       "      <th>1W</th>\n",
       "      <td>0.025000</td>\n",
       "      <td>1.124486</td>\n",
       "      <td>1.133273</td>\n",
       "      <td>1.142578</td>\n",
       "      <td>1.152506</td>\n",
       "      <td>1.162509</td>\n",
       "    </tr>\n",
       "    <tr>\n",
       "      <th>2W</th>\n",
       "      <td>0.044444</td>\n",
       "      <td>1.119016</td>\n",
       "      <td>1.130734</td>\n",
       "      <td>1.143106</td>\n",
       "      <td>1.156565</td>\n",
       "      <td>1.170358</td>\n",
       "    </tr>\n",
       "    <tr>\n",
       "      <th>3W</th>\n",
       "      <td>0.063889</td>\n",
       "      <td>1.114969</td>\n",
       "      <td>1.128909</td>\n",
       "      <td>1.143645</td>\n",
       "      <td>1.159937</td>\n",
       "      <td>1.176897</td>\n",
       "    </tr>\n",
       "    <tr>\n",
       "      <th>1M</th>\n",
       "      <td>0.088889</td>\n",
       "      <td>1.110053</td>\n",
       "      <td>1.126719</td>\n",
       "      <td>1.144329</td>\n",
       "      <td>1.163967</td>\n",
       "      <td>1.184589</td>\n",
       "    </tr>\n",
       "    <tr>\n",
       "      <th>2M</th>\n",
       "      <td>0.175000</td>\n",
       "      <td>1.098360</td>\n",
       "      <td>1.122002</td>\n",
       "      <td>1.146707</td>\n",
       "      <td>1.174629</td>\n",
       "      <td>1.204837</td>\n",
       "    </tr>\n",
       "    <tr>\n",
       "      <th>3M</th>\n",
       "      <td>0.261111</td>\n",
       "      <td>1.090196</td>\n",
       "      <td>1.119178</td>\n",
       "      <td>1.149110</td>\n",
       "      <td>1.183001</td>\n",
       "      <td>1.220532</td>\n",
       "    </tr>\n",
       "    <tr>\n",
       "      <th>6M</th>\n",
       "      <td>0.513889</td>\n",
       "      <td>1.070425</td>\n",
       "      <td>1.113370</td>\n",
       "      <td>1.156079</td>\n",
       "      <td>1.204082</td>\n",
       "      <td>1.259522</td>\n",
       "    </tr>\n",
       "    <tr>\n",
       "      <th>9M</th>\n",
       "      <td>0.763889</td>\n",
       "      <td>1.054119</td>\n",
       "      <td>1.109397</td>\n",
       "      <td>1.162710</td>\n",
       "      <td>1.221807</td>\n",
       "      <td>1.292877</td>\n",
       "    </tr>\n",
       "    <tr>\n",
       "      <th>1Y</th>\n",
       "      <td>1.019444</td>\n",
       "      <td>1.058127</td>\n",
       "      <td>1.113794</td>\n",
       "      <td>1.168875</td>\n",
       "      <td>1.241531</td>\n",
       "      <td>1.326912</td>\n",
       "    </tr>\n",
       "    <tr>\n",
       "      <th>2Y</th>\n",
       "      <td>2.033333</td>\n",
       "      <td>1.030627</td>\n",
       "      <td>1.111124</td>\n",
       "      <td>1.189500</td>\n",
       "      <td>1.298634</td>\n",
       "      <td>1.428020</td>\n",
       "    </tr>\n",
       "    <tr>\n",
       "      <th>3Y</th>\n",
       "      <td>3.052778</td>\n",
       "      <td>1.008599</td>\n",
       "      <td>1.110142</td>\n",
       "      <td>1.208250</td>\n",
       "      <td>1.351066</td>\n",
       "      <td>1.517637</td>\n",
       "    </tr>\n",
       "    <tr>\n",
       "      <th>4Y</th>\n",
       "      <td>4.063889</td>\n",
       "      <td>0.988484</td>\n",
       "      <td>1.110482</td>\n",
       "      <td>1.226231</td>\n",
       "      <td>1.400199</td>\n",
       "      <td>1.600321</td>\n",
       "    </tr>\n",
       "    <tr>\n",
       "      <th>5Y</th>\n",
       "      <td>5.077778</td>\n",
       "      <td>0.972356</td>\n",
       "      <td>1.112905</td>\n",
       "      <td>1.244192</td>\n",
       "      <td>1.449736</td>\n",
       "      <td>1.686158</td>\n",
       "    </tr>\n",
       "    <tr>\n",
       "      <th>7Y</th>\n",
       "      <td>7.108333</td>\n",
       "      <td>0.963349</td>\n",
       "      <td>1.126926</td>\n",
       "      <td>1.281850</td>\n",
       "      <td>1.554567</td>\n",
       "      <td>1.873480</td>\n",
       "    </tr>\n",
       "    <tr>\n",
       "      <th>10Y</th>\n",
       "      <td>10.150000</td>\n",
       "      <td>0.958677</td>\n",
       "      <td>1.153639</td>\n",
       "      <td>1.339162</td>\n",
       "      <td>1.718285</td>\n",
       "      <td>2.179333</td>\n",
       "    </tr>\n",
       "  </tbody>\n",
       "</table>\n",
       "</div>"
      ],
      "text/plain": [
       "           mat     put10     put25       atm    call25    call10\n",
       "on    0.002778  1.134240  1.138024  1.142050  1.146166  1.150109\n",
       "1W    0.025000  1.124486  1.133273  1.142578  1.152506  1.162509\n",
       "2W    0.044444  1.119016  1.130734  1.143106  1.156565  1.170358\n",
       "3W    0.063889  1.114969  1.128909  1.143645  1.159937  1.176897\n",
       "1M    0.088889  1.110053  1.126719  1.144329  1.163967  1.184589\n",
       "2M    0.175000  1.098360  1.122002  1.146707  1.174629  1.204837\n",
       "3M    0.261111  1.090196  1.119178  1.149110  1.183001  1.220532\n",
       "6M    0.513889  1.070425  1.113370  1.156079  1.204082  1.259522\n",
       "9M    0.763889  1.054119  1.109397  1.162710  1.221807  1.292877\n",
       "1Y    1.019444  1.058127  1.113794  1.168875  1.241531  1.326912\n",
       "2Y    2.033333  1.030627  1.111124  1.189500  1.298634  1.428020\n",
       "3Y    3.052778  1.008599  1.110142  1.208250  1.351066  1.517637\n",
       "4Y    4.063889  0.988484  1.110482  1.226231  1.400199  1.600321\n",
       "5Y    5.077778  0.972356  1.112905  1.244192  1.449736  1.686158\n",
       "7Y    7.108333  0.963349  1.126926  1.281850  1.554567  1.873480\n",
       "10Y  10.150000  0.958677  1.153639  1.339162  1.718285  2.179333"
      ]
     },
     "execution_count": 16,
     "metadata": {},
     "output_type": "execute_result"
    }
   ],
   "source": [
    "surf_k = pd.DataFrame(np.array([T, K_Put10,K_Put25,  F,K_call25, K_call10]).T, index=['on']+ maturity, columns=['mat','put10','put25','atm','call25','call10'])\n",
    "surf_k"
   ]
  },
  {
   "cell_type": "code",
   "execution_count": 17,
   "metadata": {},
   "outputs": [],
   "source": [
    "vol_df = surf[['Put10','Put25','ATM','Call25','Call10']]"
   ]
  },
  {
   "cell_type": "code",
   "execution_count": 18,
   "metadata": {},
   "outputs": [
    {
     "data": {
      "application/vnd.microsoft.datawrangler.viewer.v0+json": {
       "columns": [
        {
         "name": "index",
         "rawType": "object",
         "type": "string"
        },
        {
         "name": "ATM",
         "rawType": "float64",
         "type": "float"
        },
        {
         "name": "Call25",
         "rawType": "float64",
         "type": "float"
        },
        {
         "name": "Call10",
         "rawType": "float64",
         "type": "float"
        },
        {
         "name": "Put25",
         "rawType": "float64",
         "type": "float"
        },
        {
         "name": "Put10",
         "rawType": "float64",
         "type": "float"
        }
       ],
       "ref": "221c1fa6-be0f-43e9-ab48-00bc941e5c5b",
       "rows": [
        [
         "on",
         "9.8975",
         "10.08125",
         "10.38875",
         "9.96875",
         "10.176250000000001"
        ],
        [
         "1W",
         "7.7575",
         "8.04625",
         "8.49375",
         "7.70875",
         "7.88125"
        ],
        [
         "2W",
         "7.765",
         "8.14625",
         "8.66625",
         "7.69375",
         "7.873749999999999"
        ],
        [
         "3W",
         "7.7675",
         "8.1975",
         "8.782499999999999",
         "7.6425",
         "7.812499999999999"
        ],
        [
         "1M",
         "7.8825",
         "8.345",
         "8.97125",
         "7.74",
         "7.9087499999999995"
        ],
        [
         "2M",
         "7.86",
         "8.3825",
         "9.11875",
         "7.697500000000001",
         "7.891250000000001"
        ],
        [
         "3M",
         "7.735",
         "8.2825",
         "9.08875",
         "7.5725",
         "7.79125"
        ],
        [
         "6M",
         "7.65",
         "8.26125",
         "9.18125",
         "7.498750000000001",
         "7.808750000000001"
        ],
        [
         "9M",
         "7.6125",
         "8.27125",
         "9.30875",
         "7.46875",
         "7.83625"
        ],
        [
         "1Y",
         "7.63",
         "8.334999999999999",
         "9.44875",
         "7.51",
         "7.94125"
        ],
        [
         "2Y",
         "7.74",
         "8.383750000000001",
         "9.49875",
         "7.7162500000000005",
         "8.22125"
        ],
        [
         "3Y",
         "7.9525",
         "8.536249999999999",
         "9.55875",
         "8.01875",
         "8.56625"
        ],
        [
         "4Y",
         "8.155",
         "8.64125",
         "9.58375",
         "8.32875",
         "8.976249999999999"
        ],
        [
         "5Y",
         "8.3325",
         "8.77375",
         "9.698749999999999",
         "8.561250000000001",
         "9.296249999999999"
        ],
        [
         "7Y",
         "8.5425",
         "9.0925",
         "10.055",
         "8.637500000000001",
         "9.25"
        ],
        [
         "10Y",
         "8.7725",
         "9.478750000000002",
         "10.545000000000002",
         "8.74625",
         "9.25"
        ]
       ],
       "shape": {
        "columns": 5,
        "rows": 16
       }
      },
      "text/html": [
       "<div>\n",
       "<style scoped>\n",
       "    .dataframe tbody tr th:only-of-type {\n",
       "        vertical-align: middle;\n",
       "    }\n",
       "\n",
       "    .dataframe tbody tr th {\n",
       "        vertical-align: top;\n",
       "    }\n",
       "\n",
       "    .dataframe thead th {\n",
       "        text-align: right;\n",
       "    }\n",
       "</style>\n",
       "<table border=\"1\" class=\"dataframe\">\n",
       "  <thead>\n",
       "    <tr style=\"text-align: right;\">\n",
       "      <th></th>\n",
       "      <th>ATM</th>\n",
       "      <th>Call25</th>\n",
       "      <th>Call10</th>\n",
       "      <th>Put25</th>\n",
       "      <th>Put10</th>\n",
       "    </tr>\n",
       "  </thead>\n",
       "  <tbody>\n",
       "    <tr>\n",
       "      <th>on</th>\n",
       "      <td>9.8975</td>\n",
       "      <td>10.08125</td>\n",
       "      <td>10.38875</td>\n",
       "      <td>9.96875</td>\n",
       "      <td>10.17625</td>\n",
       "    </tr>\n",
       "    <tr>\n",
       "      <th>1W</th>\n",
       "      <td>7.7575</td>\n",
       "      <td>8.04625</td>\n",
       "      <td>8.49375</td>\n",
       "      <td>7.70875</td>\n",
       "      <td>7.88125</td>\n",
       "    </tr>\n",
       "    <tr>\n",
       "      <th>2W</th>\n",
       "      <td>7.7650</td>\n",
       "      <td>8.14625</td>\n",
       "      <td>8.66625</td>\n",
       "      <td>7.69375</td>\n",
       "      <td>7.87375</td>\n",
       "    </tr>\n",
       "    <tr>\n",
       "      <th>3W</th>\n",
       "      <td>7.7675</td>\n",
       "      <td>8.19750</td>\n",
       "      <td>8.78250</td>\n",
       "      <td>7.64250</td>\n",
       "      <td>7.81250</td>\n",
       "    </tr>\n",
       "    <tr>\n",
       "      <th>1M</th>\n",
       "      <td>7.8825</td>\n",
       "      <td>8.34500</td>\n",
       "      <td>8.97125</td>\n",
       "      <td>7.74000</td>\n",
       "      <td>7.90875</td>\n",
       "    </tr>\n",
       "    <tr>\n",
       "      <th>2M</th>\n",
       "      <td>7.8600</td>\n",
       "      <td>8.38250</td>\n",
       "      <td>9.11875</td>\n",
       "      <td>7.69750</td>\n",
       "      <td>7.89125</td>\n",
       "    </tr>\n",
       "    <tr>\n",
       "      <th>3M</th>\n",
       "      <td>7.7350</td>\n",
       "      <td>8.28250</td>\n",
       "      <td>9.08875</td>\n",
       "      <td>7.57250</td>\n",
       "      <td>7.79125</td>\n",
       "    </tr>\n",
       "    <tr>\n",
       "      <th>6M</th>\n",
       "      <td>7.6500</td>\n",
       "      <td>8.26125</td>\n",
       "      <td>9.18125</td>\n",
       "      <td>7.49875</td>\n",
       "      <td>7.80875</td>\n",
       "    </tr>\n",
       "    <tr>\n",
       "      <th>9M</th>\n",
       "      <td>7.6125</td>\n",
       "      <td>8.27125</td>\n",
       "      <td>9.30875</td>\n",
       "      <td>7.46875</td>\n",
       "      <td>7.83625</td>\n",
       "    </tr>\n",
       "    <tr>\n",
       "      <th>1Y</th>\n",
       "      <td>7.6300</td>\n",
       "      <td>8.33500</td>\n",
       "      <td>9.44875</td>\n",
       "      <td>7.51000</td>\n",
       "      <td>7.94125</td>\n",
       "    </tr>\n",
       "    <tr>\n",
       "      <th>2Y</th>\n",
       "      <td>7.7400</td>\n",
       "      <td>8.38375</td>\n",
       "      <td>9.49875</td>\n",
       "      <td>7.71625</td>\n",
       "      <td>8.22125</td>\n",
       "    </tr>\n",
       "    <tr>\n",
       "      <th>3Y</th>\n",
       "      <td>7.9525</td>\n",
       "      <td>8.53625</td>\n",
       "      <td>9.55875</td>\n",
       "      <td>8.01875</td>\n",
       "      <td>8.56625</td>\n",
       "    </tr>\n",
       "    <tr>\n",
       "      <th>4Y</th>\n",
       "      <td>8.1550</td>\n",
       "      <td>8.64125</td>\n",
       "      <td>9.58375</td>\n",
       "      <td>8.32875</td>\n",
       "      <td>8.97625</td>\n",
       "    </tr>\n",
       "    <tr>\n",
       "      <th>5Y</th>\n",
       "      <td>8.3325</td>\n",
       "      <td>8.77375</td>\n",
       "      <td>9.69875</td>\n",
       "      <td>8.56125</td>\n",
       "      <td>9.29625</td>\n",
       "    </tr>\n",
       "    <tr>\n",
       "      <th>7Y</th>\n",
       "      <td>8.5425</td>\n",
       "      <td>9.09250</td>\n",
       "      <td>10.05500</td>\n",
       "      <td>8.63750</td>\n",
       "      <td>9.25000</td>\n",
       "    </tr>\n",
       "    <tr>\n",
       "      <th>10Y</th>\n",
       "      <td>8.7725</td>\n",
       "      <td>9.47875</td>\n",
       "      <td>10.54500</td>\n",
       "      <td>8.74625</td>\n",
       "      <td>9.25000</td>\n",
       "    </tr>\n",
       "  </tbody>\n",
       "</table>\n",
       "</div>"
      ],
      "text/plain": [
       "        ATM    Call25    Call10    Put25     Put10\n",
       "on   9.8975  10.08125  10.38875  9.96875  10.17625\n",
       "1W   7.7575   8.04625   8.49375  7.70875   7.88125\n",
       "2W   7.7650   8.14625   8.66625  7.69375   7.87375\n",
       "3W   7.7675   8.19750   8.78250  7.64250   7.81250\n",
       "1M   7.8825   8.34500   8.97125  7.74000   7.90875\n",
       "2M   7.8600   8.38250   9.11875  7.69750   7.89125\n",
       "3M   7.7350   8.28250   9.08875  7.57250   7.79125\n",
       "6M   7.6500   8.26125   9.18125  7.49875   7.80875\n",
       "9M   7.6125   8.27125   9.30875  7.46875   7.83625\n",
       "1Y   7.6300   8.33500   9.44875  7.51000   7.94125\n",
       "2Y   7.7400   8.38375   9.49875  7.71625   8.22125\n",
       "3Y   7.9525   8.53625   9.55875  8.01875   8.56625\n",
       "4Y   8.1550   8.64125   9.58375  8.32875   8.97625\n",
       "5Y   8.3325   8.77375   9.69875  8.56125   9.29625\n",
       "7Y   8.5425   9.09250  10.05500  8.63750   9.25000\n",
       "10Y  8.7725   9.47875  10.54500  8.74625   9.25000"
      ]
     },
     "execution_count": 18,
     "metadata": {},
     "output_type": "execute_result"
    }
   ],
   "source": [
    "surf[['ATM', 'Call25', 'Call10', 'Put25', 'Put10']]"
   ]
  },
  {
   "cell_type": "markdown",
   "metadata": {},
   "source": [
    "sabr interpolation"
   ]
  },
  {
   "cell_type": "code",
   "execution_count": 19,
   "metadata": {},
   "outputs": [],
   "source": [
    "moneyness = np.linspace(0.75, 1.25, 50) * spot\n",
    "volmat = np.zeros([len(T), len(moneyness)])\n",
    "cons=(\n",
    "{'type': 'ineq', 'fun': lambda x:  0.99 - x[1]},\n",
    "{'type': 'ineq', 'fun': lambda x: x[1]},    \n",
    "{'type': 'ineq', 'fun': lambda x: x[3]}\n",
    ")\n",
    "bnds = ((1e-6, 5.0), (0.0, 1.0),(1e-6, 5.0), (-0.999, 0.999))"
   ]
  },
  {
   "cell_type": "code",
   "execution_count": 20,
   "metadata": {},
   "outputs": [],
   "source": [
    "def f(params):\n",
    "    vols = np.array([\n",
    "        sabrVolatility(strike, fwd, expiryTime, *params)\n",
    "        for strike in strikes\n",
    "    ])*100\n",
    "    err = ((vols - np.array(marketVols))**2 ).mean() **.5\n",
    "    return err"
   ]
  },
  {
   "cell_type": "code",
   "execution_count": 21,
   "metadata": {},
   "outputs": [
    {
     "name": "stderr",
     "output_type": "stream",
     "text": [
      "c:\\Users\\S542282\\Desktop\\fede_env\\Lib\\site-packages\\scipy\\optimize\\_slsqp_py.py:435: RuntimeWarning: Values in x were outside bounds during a minimize step, clipping to bounds\n",
      "  fx = wrapped_fun(x)\n"
     ]
    }
   ],
   "source": [
    "for i in range(len(T)):\n",
    "\n",
    "    params = [0.1] * 4\n",
    "    strikes = surf_k.iloc[i,1:].values\n",
    "    fwd = F[i]\n",
    "    expiryTime = T[i]\n",
    "    marketVols = vol_df.iloc[i,:].values/100\n",
    "\n",
    "    result = minimize(f, params, constraints=cons, tol = 0.0001, bounds = bnds)\n",
    "    new_params = result['x']\n",
    "    volmat[i,:] = np.array([sabrVolatility(strike, fwd, expiryTime, *new_params)*100 for strike in moneyness])\n"
   ]
  },
  {
   "cell_type": "code",
   "execution_count": 22,
   "metadata": {},
   "outputs": [],
   "source": [
    "interpolator = interpolate.RegularGridInterpolator((T, moneyness), volmat)"
   ]
  },
  {
   "cell_type": "code",
   "execution_count": 23,
   "metadata": {},
   "outputs": [],
   "source": [
    "ss = np.linspace(0.9, 1.1, 20) * spot\n",
    "date = np.linspace(0.01, 1, 20)    \n",
    "ss , date = np.meshgrid(ss, date)"
   ]
  },
  {
   "cell_type": "code",
   "execution_count": null,
   "metadata": {},
   "outputs": [],
   "source": [
    "estimated_vol  = interpolator((date, ss))"
   ]
  },
  {
   "cell_type": "code",
   "execution_count": 25,
   "metadata": {},
   "outputs": [
    {
     "data": {
      "image/png": "[encoded data removed]",
      "text/plain": [
       "<Figure size 640x480 with 2 Axes>"
      ]
     },
     "metadata": {},
     "output_type": "display_data"
    }
   ],
   "source": [
    "fig = plt.figure()\n",
    "ax = fig.add_subplot(111, projection='3d')\n",
    "\n",
    "# Plot the surface\n",
    "surf = ax.plot_surface(date,ss,  estimated_vol, cmap='viridis', edgecolor='none')\n",
    "\n",
    "# Add labels\n",
    "ax.set_title('3D Surface Plot')\n",
    "ax.set_xlabel('X axis')\n",
    "ax.set_ylabel('Y axis')\n",
    "ax.set_zlabel('Z axis')\n",
    "\n",
    "# Add color bar\n",
    "fig.colorbar(surf, shrink=0.5, aspect=5)\n",
    "ax.view_init(elev=30, azim=120)\n",
    "\n",
    "# Show the plot\n",
    "plt.show()"
   ]
  }
 ],
 "metadata": {
  "kernelspec": {
   "display_name": "Python 3",
   "language": "python",
   "name": "python3"
  },
  "language_info": {
   "codemirror_mode": {
    "name": "ipython",
    "version": 3
   },
   "file_extension": ".py",
   "mimetype": "text/x-python",
   "name": "python",
   "nbconvert_exporter": "python",
   "pygments_lexer": "ipython3",
   "version": "3.12.7"
  }
 },
 "nbformat": 4,
 "nbformat_minor": 2
}
